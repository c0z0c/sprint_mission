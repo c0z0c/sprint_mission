{
 "cells": [
  {
   "cell_type": "markdown",
   "metadata": {
    "id": "uLpmc82djeIE"
   },
   "source": [
    "- 작성자: 김명환 (Kim Myunghwan)\n",
    "- 작성일: 2025년 7월 9일\n",
    "- 목적: matplotlib.pyplot에서 한글 폰트가 깨지지 않도록 설정한 템플릿\n",
    "- github: https://github.com/c0z0c/jupyter_hangul\n",
    "- 환경: Jupyter Notebook 및 Google Colab 겸용\n",
    "- 자유롭게 편집해서 사용하세요\n",
    "\n",
    "**한글 폰트 설정 셀**"
   ]
  },
  {
   "cell_type": "code",
   "execution_count": 1,
   "metadata": {
    "colab": {
     "base_uri": "https://localhost:8080/",
     "height": 289
    },
    "executionInfo": {
     "elapsed": 2974,
     "status": "ok",
     "timestamp": 1752576334995,
     "user": {
      "displayName": "dev c0z0c",
      "userId": "08071297324787696567"
     },
     "user_tz": -540
    },
    "id": "WE6336hF11C5",
    "outputId": "4568d40b-c790-4a97-80cc-b16d8a572e41"
   },
   "outputs": [
    {
     "name": "stdout",
     "output_type": "stream",
     "text": [
      "🚀 Jupyter/Colab 한글 환경 설정 중... (helper v2.3.0)\n",
      "✅ matplotlib 한글 폰트 설정 완료\n",
      "✅ 한글 폰트 및 pandas 확장 기능 설정 완료\n",
      "🎉 사용 가능: 한글 폰트, CSV 읽기, DataFrame.head_att(), 캐시 기능\n"
     ]
    }
   ],
   "source": [
    "from urllib.request import urlretrieve; urlretrieve(\"https://raw.githubusercontent.com/c0z0c/jupyter_hangul/master/helper_c0z0c_dev.py\", \"helper_c0z0c_dev.py\")\n",
    "#from urllib.request import urlretrieve; urlretrieve(\"https://raw.githubusercontent.com/c0z0c/jupyter_hangul/refs/heads/beta/helper_c0z0c_dev.py\", \"helper_c0z0c_dev.py\")\n",
    "import helper_c0z0c_dev as helper"
   ]
  },
  {
   "cell_type": "code",
   "execution_count": null,
   "metadata": {},
   "outputs": [],
   "source": [
    "# --- Scikit-learn: 데이터 전처리, 모델, 평가 ---\n",
    "from sklearn.linear_model import LinearRegression  # 선형/다중 회귀\n",
    "from sklearn.preprocessing import PolynomialFeatures, StandardScaler  # 다항 특성, 정규화\n",
    "from sklearn.model_selection import train_test_split  # 데이터 분할\n",
    "\n",
    "from sklearn.datasets import (\n",
    "    fetch_california_housing, load_iris, make_moons, make_circles,\n",
    "    load_breast_cancer, load_wine\n",
    ")  # 다양한 예제 데이터셋\n",
    "from sklearn import datasets  # 추가 데이터셋\n",
    "\n",
    "from sklearn.tree import DecisionTreeRegressor, DecisionTreeClassifier, plot_tree  # 결정트리\n",
    "from sklearn.ensemble import RandomForestClassifier  # 랜덤포레스트\n",
    "from sklearn.metrics import accuracy_score, mean_squared_error  # 평가 지표\n",
    "\n",
    "# --- 다중공선성 진단용 ---\n",
    "try:\n",
    "    from statsmodels.stats.outliers_influence import variance_inflation_factor\n",
    "    print(\"statsmodels 라이브러리 로드 완료\")\n",
    "except ImportError:\n",
    "    print(\"statsmodels 라이브러리가 설치되지 않았습니다.\")\n",
    "    print(\"설치 명령: !pip install statsmodels\")\n",
    "\n",
    "# --- 기타 라이브러리 ---\n",
    "from PIL import Image  # 이미지 처리\n",
    "\n",
    "# --- PyTorch: 딥러닝 관련 ---\n",
    "import torch\n",
    "import torch.nn as nn  # 신경망\n",
    "import torch.optim as optim\n",
    "import torch.nn.functional as F  # 활성화 함수\n",
    "from torch.utils.data import Dataset, DataLoader  # PyTorch 데이터셋/로더\n",
    "from torchvision.transforms import v2\n",
    "\n",
    "# --- 기타 ---\n",
    "import numpy as np  # 수치 연산\n",
    "import matplotlib.pyplot as plt  # 시각화\n",
    "import pandas as pd\n",
    "\n",
    "# --- 디바이스 설정 ---\n",
    "device = torch.device('cuda' if torch.cuda.is_available() else 'cpu')"
   ]
  }
 ],
 "metadata": {
  "colab": {
   "provenance": []
  },
  "kernelspec": {
   "display_name": "py310env",
   "language": "python",
   "name": "python3"
  },
  "language_info": {
   "codemirror_mode": {
    "name": "ipython",
    "version": 3
   },
   "file_extension": ".py",
   "mimetype": "text/x-python",
   "name": "python",
   "nbconvert_exporter": "python",
   "pygments_lexer": "ipython3",
   "version": "3.10.18"
  }
 },
 "nbformat": 4,
 "nbformat_minor": 0
}
