{
 "cells": [
  {
   "cell_type": "markdown",
   "metadata": {},
   "source": []
  },
  {
   "cell_type": "code",
   "execution_count": 1,
   "metadata": {
    "executionInfo": {
     "elapsed": 24,
     "status": "ok",
     "timestamp": 1753449550393,
     "user": {
      "displayName": "dev c0z0c",
      "userId": "08071297324787696567"
     },
     "user_tz": -540
    },
    "id": "WE6336hF11C5"
   },
   "outputs": [
    {
     "name": "stdout",
     "output_type": "stream",
     "text": [
      "🚀 Jupyter/Colab 한글 환경 설정 중... (helper v2.2.0)\n",
      "✅ matplotlib 한글 폰트 설정 완료\n",
      "✅ 한글 폰트 및 pandas 확장 기능 설정 완료\n",
      "🎉 사용 가능: 한글 폰트, CSV 읽기, DataFrame.head_att(), 캐시 기능\n"
     ]
    }
   ],
   "source": [
    "# v2.2.0 - 재부팅 없이 바로 완료!\n",
    "# 한 번만 실행하면 모든 설정 완료\n",
    "# https://github.com/c0z0c/jupyter_hangul\n",
    "# 코딩 중간에 한글 깨진다 싶으면 helper.setup() 다시 호출 해줘도 됩니다.\n",
    "\n",
    "#from urllib.request import urlretrieve; urlretrieve(\"https://raw.githubusercontent.com/c0z0c/jupyter_hangul/master/helper_c0z0c_dev.py\", \"helper_c0z0c_dev.py\")\n",
    "from urllib.request import urlretrieve; urlretrieve(\"https://raw.githubusercontent.com/c0z0c/jupyter_hangul/refs/heads/beta/helper_c0z0c_dev.py\", \"helper_c0z0c_dev.py\")\n",
    "import helper_c0z0c_dev as helper"
   ]
  }
 ],
 "metadata": {
  "colab": {
   "provenance": []
  },
  "kernelspec": {
   "display_name": "py310env",
   "language": "python",
   "name": "python3"
  },
  "language_info": {
   "codemirror_mode": {
    "name": "ipython",
    "version": 3
   },
   "file_extension": ".py",
   "mimetype": "text/x-python",
   "name": "python",
   "nbconvert_exporter": "python",
   "pygments_lexer": "ipython3",
   "version": "3.10.18"
  }
 },
 "nbformat": 4,
 "nbformat_minor": 0
}
