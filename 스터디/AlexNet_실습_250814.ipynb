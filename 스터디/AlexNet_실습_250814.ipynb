{
 "cells": [
  {
   "cell_type": "markdown",
   "metadata": {},
   "source": [
    "정확도는 다음과 같이 계산됩니다:\n",
    "\n",
    "- 전체 샘플 중에서 **정답(실제 레이블)과 예측이 일치한 샘플의 비율**입니다.\n",
    "- 수식으로 표현하면:\n",
    "  - $\\text{Accuracy} = \\frac{\\text{맞게 분류된 샘플 수}}{\\text{전체 샘플 수}}$\n"
   ]
  },
  {
   "cell_type": "markdown",
   "metadata": {},
   "source": [
    "여기서  \n",
    "- `correct`: 맞게 분류된 샘플 개수  \n",
    "- `total`: 전체 샘플 개수\n",
    "\n",
    "즉, **acc는 전체 데이터 중에서 맞게 분류된 비율(0~1, 또는 0~100%)**을 의미합니다."
   ]
  },
  {
   "cell_type": "markdown",
   "metadata": {},
   "source": []
  },
  {
   "cell_type": "markdown",
   "metadata": {},
   "source": []
  },
  {
   "cell_type": "code",
   "execution_count": 79,
   "metadata": {
    "colab": {
     "base_uri": "https://localhost:8080/",
     "height": 289
    },
    "executionInfo": {
     "elapsed": 2974,
     "status": "ok",
     "timestamp": 1752576334995,
     "user": {
      "displayName": "dev c0z0c",
      "userId": "08071297324787696567"
     },
     "user_tz": -540
    },
    "id": "WE6336hF11C5",
    "outputId": "4568d40b-c790-4a97-80cc-b16d8a572e41"
   },
   "outputs": [
    {
     "name": "stdout",
     "output_type": "stream",
     "text": [
      "📁 helper 모듈을 로드했습니다.\n",
      "🚀 Jupyter/Colab 한글 환경 설정 중... (helper v2.3.0)\n",
      "✅ matplotlib 한글 폰트 설정 완료\n",
      "✅ 한글 폰트 및 pandas 확장 기능 설정 완료\n",
      "🎉 사용 가능: 한글 폰트, CSV 읽기, DataFrame.head_att(), 캐시 기능\n"
     ]
    }
   ],
   "source": [
    "# coalb 에서는 두번 실행 해야 합니다.\n",
    "# 첫 번째 실행 - 폰트 설치 후 자동 재시작\n",
    "# 두번째 실행 - 폰트 설치 완료\n",
    "# https://github.com/c0z0c/jupyter_hangul\n",
    "# 코딩 중간에 한글 깨진다 싶으면 helper.setup() 다시 호출 해줘도 됩니다.\n",
    "\n",
    "from urllib.request import urlretrieve\n",
    "urlretrieve(\"https://raw.githubusercontent.com/c0z0c/jupyter_hangul/master/helper_c0z0c_dev.py\", \"helper_c0z0c_dev.py\")\n",
    "import helper_c0z0c_dev as helper\n",
    "print(\"📁 helper 모듈을 로드했습니다.\")\n",
    "helper.setup()"
   ]
  },
  {
   "cell_type": "markdown",
   "metadata": {
    "id": "A0WjySneM4lt"
   },
   "source": [
    "# >기본< 라이브리 로드"
   ]
  },
  {
   "cell_type": "code",
   "execution_count": 80,
   "metadata": {
    "id": "JbDZ0lZCM4lu",
    "outputId": "9443e178-f731-4198-bb32-27dea27d2d6e"
   },
   "outputs": [
    {
     "name": "stdout",
     "output_type": "stream",
     "text": [
      "statsmodels 라이브러리 로드 완료\n",
      "Device: cpu\n"
     ]
    }
   ],
   "source": [
    "from sklearn.linear_model import LinearRegression\n",
    "from sklearn.preprocessing import PolynomialFeatures, StandardScaler\n",
    "from sklearn.model_selection import train_test_split\n",
    "from sklearn.datasets import (\n",
    "    fetch_california_housing, load_iris, make_moons, make_circles,\n",
    "    load_breast_cancer, load_wine\n",
    ")\n",
    "from sklearn.tree import DecisionTreeRegressor, DecisionTreeClassifier, plot_tree\n",
    "from sklearn.ensemble import RandomForestClassifier\n",
    "from sklearn.metrics import accuracy_score, mean_squared_error\n",
    "\n",
    "# --- 다중공선성 진단용 (선택적) ---\n",
    "try:\n",
    "    from statsmodels.stats.outliers_influence import variance_inflation_factor\n",
    "    print(\"statsmodels 라이브러리 로드 완료\")\n",
    "except Exception:\n",
    "    print(\"statsmodels 라이브러리가 설치되어 있지 않습니다. 설치: !pip install statsmodels\")\n",
    "\n",
    "# --- 표준 라이브러리 및 유틸리티 ---\n",
    "import io\n",
    "import os\n",
    "import gc\n",
    "import json\n",
    "import time\n",
    "import random\n",
    "import math\n",
    "from datetime import datetime, timedelta\n",
    "import pytz  # 시간대 처리\n",
    "\n",
    "# --- 이미지 처리 ---\n",
    "from PIL import Image, ImageDraw, ImageFilter\n",
    "import cv2  # 필요시 설치: !pip install opencv-python\n",
    "\n",
    "# --- 데이터/시각화 ---\n",
    "import numpy as np\n",
    "import pandas as pd\n",
    "import matplotlib.pyplot as plt\n",
    "import seaborn as sns\n",
    "from matplotlib.colors import ListedColormap\n",
    "from IPython.display import display, Markdown\n",
    "#from tqdm.auto import tqdm\n",
    "from tqdm.notebook import tqdm\n",
    "\n",
    "# --- PyTorch 관련 ---\n",
    "import torch\n",
    "import torch.nn as nn\n",
    "import torch.optim as optim\n",
    "import torch.nn.functional as F\n",
    "import torchvision\n",
    "from torchvision import transforms as T\n",
    "from torchvision.transforms import functional as TF\n",
    "from torchvision.models import vgg16, VGG16_Weights\n",
    "from torch.utils.data import Dataset, DataLoader, random_split\n",
    "\n",
    "# --- 선택 패키지(주석) ---\n",
    "# !pip install pytorch-msssim\n",
    "\n",
    "# --- 시드 고정 ---\n",
    "torch.manual_seed(42)\n",
    "np.random.seed(42)\n",
    "random.seed(42)\n",
    "\n",
    "# --- 디바이스 및 전역 설정 ---\n",
    "__kst = pytz.timezone('Asia/Seoul')\n",
    "global __kst\n",
    "__device = torch.device('cuda' if torch.cuda.is_available() else 'cpu')\n",
    "global __device\n",
    "print('Device:', __device)\n",
    "\n",
    "__model_class_list = []\n",
    "global __model_class_list\n",
    "# ...existing code..."
   ]
  },
  {
   "cell_type": "markdown",
   "metadata": {
    "id": "zUP1tSFuM4lv"
   },
   "source": [
    "# >기본< 모델링 함수"
   ]
  },
  {
   "cell_type": "code",
   "execution_count": 81,
   "metadata": {
    "id": "RcIb0js3M4lx"
   },
   "outputs": [],
   "source": [
    "import torch\n",
    "import torch.nn as nn\n",
    "import torch.optim as optim\n",
    "from torch.utils.data import DataLoader\n",
    "import torchvision\n",
    "import torchvision.transforms as transforms\n",
    "from torchvision import models\n",
    "import matplotlib.pyplot as plt\n",
    "import time\n",
    "import copy\n",
    "from collections import defaultdict\n",
    "import numpy as np\n",
    "from tqdm import tqdm"
   ]
  },
  {
   "cell_type": "code",
   "execution_count": 82,
   "metadata": {
    "id": "Zj-RAXemM4ly",
    "outputId": "7448b14d-af4a-4735-f847-b2e0e58ba67c"
   },
   "outputs": [
    {
     "name": "stdout",
     "output_type": "stream",
     "text": [
      "사용 디바이스: cpu\n"
     ]
    }
   ],
   "source": [
    "\n",
    "DEBUG_ON = True if not helper.is_colab else False\n",
    "\n",
    "# 디바이스 설정 (GPU 사용 가능시 GPU 사용)\n",
    "device = torch.device(\"cuda:0\" if torch.cuda.is_available() else \"cpu\")\n",
    "print(f\"사용 디바이스: {device}\")\n",
    "\n",
    "# CIFAR-10 클래스 이름\n",
    "classes = ('plane', 'car', 'bird', 'cat', 'deer', 'dog', 'frog', 'horse', 'ship', 'truck')\n"
   ]
  },
  {
   "cell_type": "code",
   "execution_count": 83,
   "metadata": {
    "id": "CnECFcnqM4lz"
   },
   "outputs": [],
   "source": [
    "\n",
    "# 데이터 전처리 및 증강\n",
    "def get_data_transforms():\n",
    "    # 훈련용 데이터 전처리 (데이터 증강 포함)\n",
    "    train_transform = transforms.Compose([\n",
    "        transforms.Resize((224, 224)),  # AlexNet 입력 크기에 맞게 리사이즈\n",
    "        transforms.RandomHorizontalFlip(p=0.5),  # 50% 확률로 좌우 반전\n",
    "        transforms.ToTensor(),\n",
    "        transforms.Normalize(mean=[0.485, 0.456, 0.406],\n",
    "                           std=[0.229, 0.224, 0.225])  # ImageNet 평균/표준편차\n",
    "    ])\n",
    "\n",
    "    # 검증/테스트용 데이터 전처리\n",
    "    val_transform = transforms.Compose([\n",
    "        transforms.Resize((224, 224)),\n",
    "        transforms.ToTensor(),\n",
    "        transforms.Normalize(mean=[0.485, 0.456, 0.406],\n",
    "                           std=[0.229, 0.224, 0.225])\n",
    "    ])\n",
    "\n",
    "    return train_transform, val_transform"
   ]
  },
  {
   "cell_type": "code",
   "execution_count": 84,
   "metadata": {
    "id": "pbh70cn9M4l0"
   },
   "outputs": [],
   "source": [
    "\n",
    "# 데이터셋 로드\n",
    "def load_data():\n",
    "    train_transform, val_transform = get_data_transforms() # 전처리\n",
    "\n",
    "    # CIFAR-10 데이터셋 다운로드 및 로드\n",
    "    train_dataset = torchvision.datasets.CIFAR10(\n",
    "        root='./data', train=True, download=True, transform=train_transform)\n",
    "\n",
    "    test_dataset = torchvision.datasets.CIFAR10(\n",
    "        root='./data', train=False, download=True, transform=val_transform)\n",
    "\n",
    "    # 검증 세트 생성 (훈련 데이터의 20% 사용)\n",
    "    train_size = int(0.8 * len(train_dataset))\n",
    "    val_size = len(train_dataset) - train_size\n",
    "    train_dataset, val_dataset = torch.utils.data.random_split(\n",
    "        train_dataset, [train_size, val_size])\n",
    "\n",
    "    # 검증 데이터셋에 올바른 transform 적용\n",
    "    val_dataset.dataset = copy.deepcopy(train_dataset.dataset)\n",
    "    val_dataset.dataset.transform = val_transform\n",
    "\n",
    "    # DEBUG_ON이 True면 3개만 사용\n",
    "    if DEBUG_ON:\n",
    "        from torch.utils.data import Subset\n",
    "        train_dataset = Subset(train_dataset, range(3))\n",
    "        val_dataset = Subset(val_dataset, range(3))\n",
    "        test_dataset = Subset(test_dataset, range(3))\n",
    "        batch_size = 3\n",
    "    else:\n",
    "        batch_size = 32\n",
    "\n",
    "    train_loader = DataLoader(train_dataset, batch_size=batch_size,\n",
    "                            shuffle=True, num_workers=2)\n",
    "    val_loader = DataLoader(val_dataset, batch_size=batch_size,\n",
    "                          shuffle=False, num_workers=2)\n",
    "    test_loader = DataLoader(test_dataset, batch_size=batch_size,\n",
    "                           shuffle=False, num_workers=2)\n",
    "\n",
    "    print(f\"훈련 데이터: {len(train_dataset)}개\")\n",
    "    print(f\"검증 데이터: {len(val_dataset)}개\")\n",
    "    print(f\"테스트 데이터: {len(test_dataset)}개\")\n",
    "\n",
    "    return train_loader, val_loader, test_loader\n",
    "\n",
    "# load_data()"
   ]
  },
  {
   "cell_type": "code",
   "execution_count": 85,
   "metadata": {
    "id": "sPIL7jp-M4l2"
   },
   "outputs": [],
   "source": [
    "# 모델 생성 함수\n",
    "def create_model(strategy='from_scratch'):\n",
    "    \"\"\"\n",
    "    세 가지 전략으로 AlexNet 모델 생성\n",
    "    - from_scratch: 처음부터 학습\n",
    "    - feature_extraction: 특성 추출기로만 사용 (분류기만 학습)\n",
    "    - fine_tuning: 전체 네트워크 미세조정\n",
    "    \"\"\"\n",
    "\n",
    "    if strategy == 'from_scratch':\n",
    "        # 처음부터 학습 (가중치 초기화)\n",
    "        model = models.alexnet(pretrained=False)\n",
    "        model.classifier[6] = nn.Linear(4096, 10)  # CIFAR-10은 10개 클래스\n",
    "\n",
    "    elif strategy == 'feature_extraction':\n",
    "        # 사전 훈련된 모델 로드\n",
    "        model = models.alexnet(pretrained=True)\n",
    "\n",
    "        # 특성 추출기 부분의 가중치 고정\n",
    "        for param in model.features.parameters():\n",
    "            param.requires_grad = False\n",
    "\n",
    "        # 분류기의 마지막 층만 CIFAR-10용으로 변경\n",
    "        model.classifier[6] = nn.Linear(4096, 10)\n",
    "\n",
    "    elif strategy == 'fine_tuning':\n",
    "        # 사전 훈련된 모델 로드\n",
    "        model = models.alexnet(pretrained=True)\n",
    "\n",
    "        # 분류기의 마지막 층을 CIFAR-10용으로 변경\n",
    "        model.classifier[6] = nn.Linear(4096, 10)\n",
    "\n",
    "        # 모든 가중치를 학습 가능하게 설정 (기본값)\n",
    "\n",
    "    model = model.to(device)\n",
    "\n",
    "    # 학습 가능한 파라미터 수 계산\n",
    "    trainable_params = sum(p.numel() for p in model.parameters() if p.requires_grad)\n",
    "    total_params = sum(p.numel() for p in model.parameters())\n",
    "\n",
    "    print(f\"\\n=== {strategy.upper()} 전략 ===\")\n",
    "    print(f\"총 파라미터 수: {total_params:,}\")\n",
    "    print(f\"학습 가능한 파라미터 수: {trainable_params:,}\")\n",
    "    print(f\"학습 가능 비율: {100 * trainable_params / total_params:.1f}%\")\n",
    "\n",
    "    return model\n",
    "\n",
    "# 훈련 함수\n",
    "def train_fn(model, train_loader, criterion, optimizer, device, epoch=None, epochs=None):\n",
    "    model.train()\n",
    "    running_loss = 0.0\n",
    "    correct = 0\n",
    "    total = 0\n",
    "    res = {}\n",
    "    desc = f\"Train [{epoch+1}/{epochs}]\" if epoch is not None and epochs is not None else \"Train\"\n",
    "    tqdm_kwargs = {} \n",
    "    if not DEBUG_ON:\n",
    "        tqdm_kwargs['disable'] = False\n",
    "        tqdm_kwargs['mininterval'] = 10\n",
    "\n",
    "    for images, labels in tqdm(train_loader, leave=False, desc=desc, position=1, **tqdm_kwargs):\n",
    "        images, labels = images.to(device), labels.to(device)\n",
    "        optimizer.zero_grad()\n",
    "        outputs = model(images)\n",
    "        loss = criterion(outputs, labels)\n",
    "        loss.backward()\n",
    "        optimizer.step()\n",
    "\n",
    "        batch_size = labels.size(0)\n",
    "        # criterion이 기본(reduction='mean')이라 가정하여 샘플 기준 누적\n",
    "        running_loss += loss.item() * batch_size\n",
    "        _, predicted = torch.max(outputs, 1)\n",
    "        total += batch_size\n",
    "        correct += (predicted == labels).sum().item()\n",
    "\n",
    "    epoch_loss = running_loss / total if total > 0 else 0.0\n",
    "    epoch_acc = correct / total if total > 0 else 0.0\n",
    "    res['loss'] = epoch_loss\n",
    "    res['acc'] = epoch_acc\n",
    "    return res\n",
    "\n",
    "# 검증 함수\n",
    "def validate_fn(model, val_loader, criterion, device, epoch, epochs):\n",
    "    model.eval()\n",
    "    running_loss = 0.0\n",
    "    correct = 0\n",
    "    total = 0\n",
    "    res = {}\n",
    "    desc = f\"Val   [{epoch+1}/{epochs}]\"\n",
    "    tqdm_kwargs = {} \n",
    "    if not DEBUG_ON:\n",
    "        tqdm_kwargs['disable'] = False\n",
    "        tqdm_kwargs['mininterval'] = 10\n",
    "\n",
    "    with torch.no_grad():\n",
    "        for images, labels in tqdm(val_loader, leave=False, desc=desc, position=1, **tqdm_kwargs):\n",
    "            images, labels = images.to(device), labels.to(device)\n",
    "            outputs = model(images)\n",
    "            loss = criterion(outputs, labels)\n",
    "\n",
    "            batch_size = labels.size(0)\n",
    "            running_loss += loss.item() * batch_size\n",
    "            _, predicted = torch.max(outputs, 1)\n",
    "            total += batch_size\n",
    "            correct += (predicted == labels).sum().item()\n",
    "\n",
    "    epoch_loss = running_loss / total if total > 0 else 0.0\n",
    "    epoch_acc = correct / total if total > 0 else 0.0\n",
    "    res['loss'] = epoch_loss\n",
    "    res['acc'] = epoch_acc\n",
    "    return res\n",
    "\n",
    "# 모델링 함수 (훈련 + 검증)\n",
    "def modeling_fn(model, epochs, train_loader, val_loader, criterion, optimizer, scheduler, device):\n",
    "    history = []\n",
    "    best_val_acc = 0.0\n",
    "    best_model_wts = copy.deepcopy(model.state_dict())\n",
    "\n",
    "    start_time = time.time()\n",
    "    epoch_start_time = None\n",
    "\n",
    "    for epoch in tqdm(range(epochs), desc=\"Epochs\", position=0):\n",
    "        epoch_start_time = time.time()\n",
    "\n",
    "        train_res = train_fn(model, train_loader, criterion, optimizer, device, epoch=epoch, epochs=epochs)\n",
    "        val_res = validate_fn(model, val_loader, criterion, device, epoch=epoch, epochs=epochs)\n",
    "\n",
    "        # 스케줄러 업데이트\n",
    "        if scheduler:\n",
    "            scheduler.step()\n",
    "\n",
    "        res = {\n",
    "            \"epoch\": epoch,\n",
    "            \"epochs\": epochs,\n",
    "            \"train\": train_res,\n",
    "            \"val\": val_res,\n",
    "        }\n",
    "\n",
    "        history.append(res)\n",
    "\n",
    "        # 최고 성능 모델 저장\n",
    "        if val_res['acc'] > best_val_acc:\n",
    "            best_val_acc = val_res['acc']\n",
    "            best_model_wts = copy.deepcopy(model.state_dict())\n",
    "\n",
    "        # 에포크 완료 시간 계산\n",
    "        epoch_elapsed = time.time() - epoch_start_time\n",
    "\n",
    "        # 첫 번째 에포크 완료 후 예상 완료 시간 계산\n",
    "        if epoch == 0 and epochs > 1:\n",
    "            remaining_epochs = epochs - 1\n",
    "            estimated_total_time = epoch_elapsed * epochs\n",
    "            estimated_completion = datetime.now(__kst) + timedelta(seconds=epoch_elapsed * remaining_epochs)\n",
    "            print(f\"첫 에포크 완료 - 예상 완료 시간: {estimated_completion.strftime('%Y-%m-%d %H:%M:%S KST')}\")\n",
    "\n",
    "        print(f\"Epoch {epoch+1}/{epochs} - \"\n",
    "              f\"Train Loss: {train_res['loss']:.4f}, \"\n",
    "              f\"Train Acc: {train_res['acc']:.4f} | \"\n",
    "              f\"Val Loss: {val_res['loss']:.4f}, \"\n",
    "              f\"Val Acc: {val_res['acc']:.4f} \"\n",
    "              f\"({epoch_elapsed:.1f}s)\")\n",
    "\n",
    "    # 전체 학습 완료 시간\n",
    "    total_elapsed = time.time() - start_time\n",
    "    completion_time = datetime.now(__kst)\n",
    "\n",
    "    # 최고 성능 모델 가중치 로드\n",
    "    model.load_state_dict(best_model_wts)\n",
    "    print(f'\\n최고 검증 정확도: {best_val_acc:.4f}')\n",
    "    print(f'전체 학습 시간: {total_elapsed:.1f}초 ({total_elapsed/60:.1f}분)')\n",
    "    print(f'학습 완료 시간: {completion_time.strftime(\"%Y-%m-%d %H:%M:%S KST\")}')\n",
    "\n",
    "    return model, history\n",
    "\n",
    "# 테스트 함수\n",
    "def test_model(model, test_loader):\n",
    "    \"\"\"모델 테스트\"\"\"\n",
    "    model.eval()\n",
    "    correct = 0\n",
    "    total = 0\n",
    "    class_correct = list(0. for i in range(10))\n",
    "    class_total = list(0. for i in range(10))\n",
    "\n",
    "    with torch.no_grad():\n",
    "        for images, labels in tqdm(test_loader, desc=\"Testing\"):\n",
    "            images = images.to(device)\n",
    "            labels = labels.to(device)\n",
    "            outputs = model(images)\n",
    "            _, predicted = torch.max(outputs, 1)\n",
    "\n",
    "            total += labels.size(0)\n",
    "            correct += (predicted == labels).sum().item()\n",
    "\n",
    "            # 클래스별 정확도 계산\n",
    "            c = (predicted == labels).squeeze()\n",
    "            for i in range(labels.size(0)):\n",
    "                label = labels[i]\n",
    "                class_correct[label] += c[i].item()\n",
    "                class_total[label] += 1\n",
    "\n",
    "    accuracy = 100 * correct / total\n",
    "    print(f'전체 테스트 정확도: {accuracy:.2f}%')\n",
    "\n",
    "    # 클래스별 정확도 출력\n",
    "    print('\\n클래스별 정확도:')\n",
    "    for i in range(10):\n",
    "        if class_total[i] > 0:\n",
    "            print(f'{classes[i]:>8}: {100 * class_correct[i] / class_total[i]:.1f}%')\n",
    "\n",
    "    return accuracy\n"
   ]
  },
  {
   "cell_type": "code",
   "execution_count": 86,
   "metadata": {
    "id": "s4PCqwazM4l4"
   },
   "outputs": [],
   "source": [
    "\n",
    "# 히스토리에서 데이터 추출 함수\n",
    "def extract_history_data(history):\n",
    "    \"\"\"히스토리에서 loss와 accuracy 데이터 추출\"\"\"\n",
    "    train_loss = [epoch['train']['loss'] for epoch in history]\n",
    "    train_acc = [epoch['train']['acc'] for epoch in history]\n",
    "    val_loss = [epoch['val']['loss'] for epoch in history]\n",
    "    val_acc = [epoch['val']['acc'] for epoch in history]\n",
    "\n",
    "    return {\n",
    "        'train_loss': train_loss,\n",
    "        'train_acc': train_acc,\n",
    "        'val_loss': val_loss,\n",
    "        'val_acc': val_acc\n",
    "    }\n",
    "\n",
    "# 결과 시각화 함수\n",
    "def plot_training_history(histories, strategies):\n",
    "    \"\"\"학습 과정 시각화\"\"\"\n",
    "    plt.figure(figsize=(15, 10))\n",
    "\n",
    "    colors = ['blue', 'red', 'green']\n",
    "\n",
    "    # 히스토리 데이터 추출\n",
    "    extracted_histories = [extract_history_data(history) for history in histories]\n",
    "\n",
    "    # Loss 그래프\n",
    "    plt.subplot(2, 2, 1)\n",
    "    for i, (strategy, history) in enumerate(zip(strategies, extracted_histories)):\n",
    "        plt.plot(history['train_loss'], color=colors[i], linestyle='-',\n",
    "                label=f'{strategy} Train', linewidth=2)\n",
    "        plt.plot(history['val_loss'], color=colors[i], linestyle='--',\n",
    "                label=f'{strategy} Val', linewidth=2)\n",
    "\n",
    "    plt.title('Training and Validation Loss', fontsize=14, fontweight='bold')\n",
    "    plt.xlabel('Epoch')\n",
    "    plt.ylabel('Loss')\n",
    "    plt.legend()\n",
    "    plt.grid(True, alpha=0.3)\n",
    "\n",
    "    # Accuracy 그래프\n",
    "    plt.subplot(2, 2, 2)\n",
    "    for i, (strategy, history) in enumerate(zip(strategies, extracted_histories)):\n",
    "        plt.plot(history['train_acc'], color=colors[i], linestyle='-',\n",
    "                label=f'{strategy} Train', linewidth=2)\n",
    "        plt.plot(history['val_acc'], color=colors[i], linestyle='--',\n",
    "                label=f'{strategy} Val', linewidth=2)\n",
    "\n",
    "    plt.title('Training and Validation Accuracy', fontsize=14, fontweight='bold')\n",
    "    plt.xlabel('Epoch')\n",
    "    plt.ylabel('Accuracy')\n",
    "    plt.legend()\n",
    "    plt.grid(True, alpha=0.3)\n",
    "\n",
    "    # 최종 검증 정확도 비교\n",
    "    plt.subplot(2, 2, 3)\n",
    "    final_val_accs = [history['val_acc'][-1] for history in extracted_histories]\n",
    "    bars = plt.bar(strategies, final_val_accs, color=colors, alpha=0.7)\n",
    "    plt.title('Final Validation Accuracy Comparison', fontsize=14, fontweight='bold')\n",
    "    plt.ylabel('Accuracy')\n",
    "    plt.ylim(0, 1)\n",
    "\n",
    "    # 막대 위에 수치 표시\n",
    "    for bar, acc in zip(bars, final_val_accs):\n",
    "        plt.text(bar.get_x() + bar.get_width()/2, bar.get_height() + 0.01,\n",
    "                f'{acc:.3f}', ha='center', va='bottom', fontweight='bold')\n",
    "\n",
    "    # 학습 시간 비교 (각 전략별 에포크 수가 같다면)\n",
    "    plt.subplot(2, 2, 4)\n",
    "    epochs = len(extracted_histories[0]['train_loss'])\n",
    "    epoch_range = range(1, epochs + 1)\n",
    "\n",
    "    for i, (strategy, history) in enumerate(zip(strategies, extracted_histories)):\n",
    "        # 검증 정확도의 개선 추이\n",
    "        val_acc_improvement = np.array(history['val_acc']) - history['val_acc'][0]\n",
    "        plt.plot(epoch_range, val_acc_improvement, color=colors[i],\n",
    "                marker='o', label=f'{strategy}', linewidth=2, markersize=4)\n",
    "\n",
    "    plt.title('Validation Accuracy Improvement', fontsize=14, fontweight='bold')\n",
    "    plt.xlabel('Epoch')\n",
    "    plt.ylabel('Accuracy Improvement')\n",
    "    plt.legend()\n",
    "    plt.grid(True, alpha=0.3)\n",
    "\n",
    "    plt.tight_layout()\n",
    "    plt.show()\n",
    "\n",
    "# 모델 학습 및 평가 함수\n",
    "def train_and_evaluate_strategy(strategy, train_loader, val_loader, test_loader, num_epochs=10):\n",
    "    \"\"\"특정 전략으로 모델 학습 및 평가\"\"\"\n",
    "    print(f\"\\n{'='*60}\")\n",
    "    print(f\"{strategy.upper()} 전략 시작\")\n",
    "    print(f\"{'='*60}\")\n",
    "\n",
    "    # 모델 생성\n",
    "    model = create_model(strategy)\n",
    "\n",
    "    # 손실 함수와 옵티마이저 설정\n",
    "    criterion = nn.CrossEntropyLoss()\n",
    "\n",
    "    # 전략에 따른 학습률 설정\n",
    "    if strategy == 'from_scratch':\n",
    "        optimizer = optim.SGD(model.parameters(), lr=0.001, momentum=0.9, weight_decay=1e-4)\n",
    "    else:  # feature_extraction, fine_tuning\n",
    "        optimizer = optim.SGD(model.parameters(), lr=0.0001, momentum=0.9, weight_decay=1e-4)\n",
    "\n",
    "    # 학습률 스케줄러\n",
    "    scheduler = optim.lr_scheduler.StepLR(optimizer, step_size=5, gamma=0.5)\n",
    "\n",
    "    # 모델 학습\n",
    "    model, history = modeling_fn(model, num_epochs, train_loader, val_loader,\n",
    "                               criterion, optimizer, scheduler, device)\n",
    "\n",
    "    # 테스트 평가\n",
    "    print(f\"\\n{strategy.upper()} 테스트 결과:\")\n",
    "    print(\"-\" * 30)\n",
    "    test_acc = test_model(model, test_loader)\n",
    "\n",
    "    return model, history, test_acc"
   ]
  },
  {
   "cell_type": "code",
   "execution_count": 87,
   "metadata": {
    "id": "D9VifQZMM4l6",
    "outputId": "891b8e0f-4ed8-447a-9360-9d979d1e7556"
   },
   "outputs": [
    {
     "name": "stdout",
     "output_type": "stream",
     "text": [
      "DEBUG_ON= True\n",
      "CIFAR-10 AlexNet 이미지 분류 실습\n",
      "==================================================\n",
      "Files already downloaded and verified\n",
      "Files already downloaded and verified\n",
      "훈련 데이터: 3개\n",
      "검증 데이터: 3개\n",
      "테스트 데이터: 3개\n",
      "\n",
      "============================================================\n",
      "FEATURE_EXTRACTION 전략 시작\n",
      "============================================================\n",
      "\n",
      "=== FEATURE_EXTRACTION 전략 ===\n",
      "총 파라미터 수: 57,044,810\n",
      "학습 가능한 파라미터 수: 54,575,114\n",
      "학습 가능 비율: 95.7%\n"
     ]
    },
    {
     "name": "stderr",
     "output_type": "stream",
     "text": [
      "Epochs:  33%|███▎      | 1/3 [00:13<00:26, 13.16s/it]"
     ]
    },
    {
     "name": "stdout",
     "output_type": "stream",
     "text": [
      "첫 에포크 완료 - 예상 완료 시간: 2025-08-14 20:22:49 KST\n",
      "Epoch 1/3 - Train Loss: 2.3716, Train Acc: 0.0000 | Val Loss: 2.6073, Val Acc: 0.0000 (13.2s)\n"
     ]
    },
    {
     "name": "stderr",
     "output_type": "stream",
     "text": [
      "Epochs:  67%|██████▋   | 2/3 [00:26<00:13, 13.40s/it]"
     ]
    },
    {
     "name": "stdout",
     "output_type": "stream",
     "text": [
      "Epoch 2/3 - Train Loss: 2.3381, Train Acc: 0.3333 | Val Loss: 2.5511, Val Acc: 0.0000 (13.6s)\n"
     ]
    },
    {
     "name": "stderr",
     "output_type": "stream",
     "text": [
      "Epochs: 100%|██████████| 3/3 [00:40<00:00, 13.61s/it]\n"
     ]
    },
    {
     "name": "stdout",
     "output_type": "stream",
     "text": [
      "Epoch 3/3 - Train Loss: 2.4764, Train Acc: 0.3333 | Val Loss: 2.4737, Val Acc: 0.0000 (14.1s)\n",
      "\n",
      "최고 검증 정확도: 0.0000\n",
      "전체 학습 시간: 40.8초 (0.7분)\n",
      "학습 완료 시간: 2025-08-14 20:22:50 KST\n",
      "\n",
      "FEATURE_EXTRACTION 테스트 결과:\n",
      "------------------------------\n"
     ]
    },
    {
     "name": "stderr",
     "output_type": "stream",
     "text": [
      "Testing: 100%|██████████| 1/1 [00:06<00:00,  6.14s/it]\n"
     ]
    },
    {
     "name": "stdout",
     "output_type": "stream",
     "text": [
      "전체 테스트 정확도: 0.00%\n",
      "\n",
      "클래스별 정확도:\n",
      "     cat: 0.0%\n",
      "    ship: 0.0%\n",
      "\n",
      "============================================================\n",
      "FINE_TUNING 전략 시작\n",
      "============================================================\n",
      "\n",
      "=== FINE_TUNING 전략 ===\n",
      "총 파라미터 수: 57,044,810\n",
      "학습 가능한 파라미터 수: 57,044,810\n",
      "학습 가능 비율: 100.0%\n"
     ]
    },
    {
     "name": "stderr",
     "output_type": "stream",
     "text": [
      "Epochs:  33%|███▎      | 1/3 [00:14<00:28, 14.27s/it]"
     ]
    },
    {
     "name": "stdout",
     "output_type": "stream",
     "text": [
      "첫 에포크 완료 - 예상 완료 시간: 2025-08-14 20:23:39 KST\n",
      "Epoch 1/3 - Train Loss: 2.3787, Train Acc: 0.0000 | Val Loss: 1.9728, Val Acc: 0.0000 (14.3s)\n"
     ]
    },
    {
     "name": "stderr",
     "output_type": "stream",
     "text": [
      "Epochs:  67%|██████▋   | 2/3 [00:28<00:14, 14.45s/it]"
     ]
    },
    {
     "name": "stdout",
     "output_type": "stream",
     "text": [
      "Epoch 2/3 - Train Loss: 2.4255, Train Acc: 0.0000 | Val Loss: 1.9684, Val Acc: 0.0000 (14.6s)\n"
     ]
    },
    {
     "name": "stderr",
     "output_type": "stream",
     "text": [
      "Epochs: 100%|██████████| 3/3 [00:43<00:00, 14.48s/it]\n"
     ]
    },
    {
     "name": "stdout",
     "output_type": "stream",
     "text": [
      "Epoch 3/3 - Train Loss: 2.3058, Train Acc: 0.0000 | Val Loss: 1.9715, Val Acc: 0.0000 (14.6s)\n",
      "\n",
      "최고 검증 정확도: 0.0000\n",
      "전체 학습 시간: 43.4초 (0.7분)\n",
      "학습 완료 시간: 2025-08-14 20:23:40 KST\n",
      "\n",
      "FINE_TUNING 테스트 결과:\n",
      "------------------------------\n"
     ]
    },
    {
     "name": "stderr",
     "output_type": "stream",
     "text": [
      "Testing: 100%|██████████| 1/1 [00:06<00:00,  6.36s/it]\n"
     ]
    },
    {
     "name": "stdout",
     "output_type": "stream",
     "text": [
      "전체 테스트 정확도: 0.00%\n",
      "\n",
      "클래스별 정확도:\n",
      "     cat: 0.0%\n",
      "    ship: 0.0%\n",
      "\n",
      "============================================================\n",
      "FROM_SCRATCH 전략 시작\n",
      "============================================================\n",
      "\n",
      "=== FROM_SCRATCH 전략 ===\n",
      "총 파라미터 수: 57,044,810\n",
      "학습 가능한 파라미터 수: 57,044,810\n",
      "학습 가능 비율: 100.0%\n"
     ]
    },
    {
     "name": "stderr",
     "output_type": "stream",
     "text": [
      "Epochs:  33%|███▎      | 1/3 [00:14<00:29, 14.64s/it]"
     ]
    },
    {
     "name": "stdout",
     "output_type": "stream",
     "text": [
      "첫 에포크 완료 - 예상 완료 시간: 2025-08-14 20:24:30 KST\n",
      "Epoch 1/3 - Train Loss: 2.2926, Train Acc: 0.0000 | Val Loss: 2.2987, Val Acc: 0.0000 (14.6s)\n"
     ]
    },
    {
     "name": "stderr",
     "output_type": "stream",
     "text": [
      "Epochs:  67%|██████▋   | 2/3 [00:31<00:15, 15.65s/it]"
     ]
    },
    {
     "name": "stdout",
     "output_type": "stream",
     "text": [
      "Epoch 2/3 - Train Loss: 2.2920, Train Acc: 0.3333 | Val Loss: 2.2983, Val Acc: 0.0000 (16.4s)\n"
     ]
    },
    {
     "name": "stderr",
     "output_type": "stream",
     "text": [
      "Epochs: 100%|██████████| 3/3 [00:49<00:00, 16.38s/it]\n"
     ]
    },
    {
     "name": "stdout",
     "output_type": "stream",
     "text": [
      "Epoch 3/3 - Train Loss: 2.2922, Train Acc: 0.3333 | Val Loss: 2.2978, Val Acc: 0.0000 (18.1s)\n",
      "\n",
      "최고 검증 정확도: 0.0000\n",
      "전체 학습 시간: 49.1초 (0.8분)\n",
      "학습 완료 시간: 2025-08-14 20:24:36 KST\n",
      "\n",
      "FROM_SCRATCH 테스트 결과:\n",
      "------------------------------\n"
     ]
    },
    {
     "name": "stderr",
     "output_type": "stream",
     "text": [
      "Testing: 100%|██████████| 1/1 [00:08<00:00,  8.23s/it]\n"
     ]
    },
    {
     "name": "stdout",
     "output_type": "stream",
     "text": [
      "전체 테스트 정확도: 0.00%\n",
      "\n",
      "클래스별 정확도:\n",
      "     cat: 0.0%\n",
      "    ship: 0.0%\n",
      "\n",
      "============================================================\n",
      "전체 결과 요약\n",
      "============================================================\n",
      "feature_extraction: 0.00%\n",
      "     fine_tuning: 0.00%\n",
      "    from_scratch: 0.00%\n"
     ]
    },
    {
     "data": {
      "image/png": "[encoded data removed]",
      "text/plain": [
       "<Figure size 1500x1000 with 4 Axes>"
      ]
     },
     "metadata": {},
     "output_type": "display_data"
    },
    {
     "name": "stdout",
     "output_type": "stream",
     "text": [
      "\n",
      "============================================================\n",
      "성능 분석 및 권장사항\n",
      "============================================================\n",
      "최고 성능 전략: feature_extraction (0.00%)\n",
      "\n",
      "각 전략의 특징:\n",
      "• Feature Extraction: 빠른 학습, 적은 메모리, 제한적 성능\n",
      "• Fine-tuning: 균형잡힌 성능, 중간 학습시간\n",
      "• From Scratch: 긴 학습시간, 많은 데이터 필요, 높은 잠재성능\n",
      "모델 학습 및 평가가 완료되었습니다.\n"
     ]
    }
   ],
   "source": [
    "# 메인 실행 함수\n",
    "def running():\n",
    "    \"\"\"메인 실행 함수\"\"\"\n",
    "    print(\"CIFAR-10 AlexNet 이미지 분류 실습\")\n",
    "    print(\"=\" * 50)\n",
    "\n",
    "    # 데이터 로드\n",
    "    train_loader, val_loader, test_loader = load_data()\n",
    "\n",
    "    # 세 가지 전략\n",
    "    strategies = ['feature_extraction', 'fine_tuning', 'from_scratch']\n",
    "    models = []\n",
    "    histories = []\n",
    "    test_accuracies = []\n",
    "\n",
    "    num_epochs = 3 if DEBUG_ON else 10\n",
    "\n",
    "    # 각 전략별로 모델 학습 및 평가\n",
    "    for strategy in strategies:\n",
    "        model, history, test_acc = train_and_evaluate_strategy(\n",
    "            strategy, train_loader, val_loader, test_loader, num_epochs=num_epochs)\n",
    "\n",
    "        # 결과 저장\n",
    "        models.append(model)\n",
    "        histories.append(history)\n",
    "        test_accuracies.append(test_acc)\n",
    "\n",
    "    # 결과 시각화\n",
    "    print(f\"\\n{'='*60}\")\n",
    "    print(\"전체 결과 요약\")\n",
    "    print(f\"{'='*60}\")\n",
    "\n",
    "    for strategy, test_acc in zip(strategies, test_accuracies):\n",
    "        print(f\"{strategy:>16}: {test_acc:.2f}%\")\n",
    "\n",
    "    # 학습 과정 시각화\n",
    "    plot_training_history(histories, strategies)\n",
    "\n",
    "    # 성능 분석 및 권장사항 출력\n",
    "    print(f\"\\n{'='*60}\")\n",
    "    print(\"성능 분석 및 권장사항\")\n",
    "    print(f\"{'='*60}\")\n",
    "\n",
    "    best_strategy = strategies[np.argmax(test_accuracies)]\n",
    "    print(f\"최고 성능 전략: {best_strategy} ({max(test_accuracies):.2f}%)\")\n",
    "\n",
    "    print(\"\\n각 전략의 특징:\")\n",
    "    print(\"• Feature Extraction: 빠른 학습, 적은 메모리, 제한적 성능\")\n",
    "    print(\"• Fine-tuning: 균형잡힌 성능, 중간 학습시간\")\n",
    "    print(\"• From Scratch: 긴 학습시간, 많은 데이터 필요, 높은 잠재성능\")\n",
    "\n",
    "    return models, histories, test_accuracies\n",
    "\n",
    "\n",
    "print(\"DEBUG_ON=\",DEBUG_ON)\n",
    "models, histories, test_accuracies = running()\n",
    "print(\"모델 학습 및 평가가 완료되었습니다.\")\n",
    "\n"
   ]
  }
 ],
 "metadata": {
  "accelerator": "GPU",
  "colab": {
   "gpuType": "T4",
   "provenance": []
  },
  "kernelspec": {
   "display_name": "Python 3",
   "name": "python3"
  },
  "language_info": {
   "codemirror_mode": {
    "name": "ipython",
    "version": 3
   },
   "file_extension": ".py",
   "mimetype": "text/x-python",
   "name": "python",
   "nbconvert_exporter": "python",
   "pygments_lexer": "ipython3",
   "version": "3.10.18"
  }
 },
 "nbformat": 4,
 "nbformat_minor": 0
}
